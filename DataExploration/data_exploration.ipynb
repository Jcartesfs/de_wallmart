{
 "cells": [
  {
   "cell_type": "code",
   "execution_count": 1,
   "metadata": {},
   "outputs": [],
   "source": [
    "import pandas as pd\n",
    "pd.options.display.max_columns = 500\n",
    "pd.options.display.max_rows = 500"
   ]
  },
  {
   "cell_type": "markdown",
   "metadata": {},
   "source": [
    "## Análisis de datos para el csv consoles"
   ]
  },
  {
   "cell_type": "code",
   "execution_count": 2,
   "metadata": {},
   "outputs": [
    {
     "name": "stdout",
     "output_type": "stream",
     "text": [
      "Index(['console', 'company'], dtype='object')\n",
      "**************\n",
      "       console   company\n",
      "count       19        19\n",
      "unique      19         5\n",
      "top        GBA  Nintendo\n",
      "freq         1         8\n",
      "**************\n",
      "<class 'pandas.core.frame.DataFrame'>\n",
      "RangeIndex: 19 entries, 0 to 18\n",
      "Data columns (total 2 columns):\n",
      "console    19 non-null object\n",
      "company    19 non-null object\n",
      "dtypes: object(2)\n",
      "memory usage: 432.0+ bytes\n",
      "None\n",
      "**************\n"
     ]
    },
    {
     "data": {
      "text/html": [
       "<div>\n",
       "<style scoped>\n",
       "    .dataframe tbody tr th:only-of-type {\n",
       "        vertical-align: middle;\n",
       "    }\n",
       "\n",
       "    .dataframe tbody tr th {\n",
       "        vertical-align: top;\n",
       "    }\n",
       "\n",
       "    .dataframe thead th {\n",
       "        text-align: right;\n",
       "    }\n",
       "</style>\n",
       "<table border=\"1\" class=\"dataframe\">\n",
       "  <thead>\n",
       "    <tr style=\"text-align: right;\">\n",
       "      <th></th>\n",
       "      <th>console</th>\n",
       "      <th>company</th>\n",
       "    </tr>\n",
       "  </thead>\n",
       "  <tbody>\n",
       "    <tr>\n",
       "      <th>0</th>\n",
       "      <td>3DS</td>\n",
       "      <td>Nintendo</td>\n",
       "    </tr>\n",
       "    <tr>\n",
       "      <th>1</th>\n",
       "      <td>DC</td>\n",
       "      <td>Sega</td>\n",
       "    </tr>\n",
       "    <tr>\n",
       "      <th>2</th>\n",
       "      <td>DS</td>\n",
       "      <td>Nintendo</td>\n",
       "    </tr>\n",
       "    <tr>\n",
       "      <th>3</th>\n",
       "      <td>GBA</td>\n",
       "      <td>Nintendo</td>\n",
       "    </tr>\n",
       "    <tr>\n",
       "      <th>4</th>\n",
       "      <td>GC</td>\n",
       "      <td>Nintendo</td>\n",
       "    </tr>\n",
       "    <tr>\n",
       "      <th>5</th>\n",
       "      <td>N64</td>\n",
       "      <td>Nintendo</td>\n",
       "    </tr>\n",
       "    <tr>\n",
       "      <th>6</th>\n",
       "      <td>PC</td>\n",
       "      <td>PC</td>\n",
       "    </tr>\n",
       "    <tr>\n",
       "      <th>7</th>\n",
       "      <td>PS</td>\n",
       "      <td>Sony</td>\n",
       "    </tr>\n",
       "    <tr>\n",
       "      <th>8</th>\n",
       "      <td>PS2</td>\n",
       "      <td>Sony</td>\n",
       "    </tr>\n",
       "    <tr>\n",
       "      <th>9</th>\n",
       "      <td>PS3</td>\n",
       "      <td>Sony</td>\n",
       "    </tr>\n",
       "    <tr>\n",
       "      <th>10</th>\n",
       "      <td>PS4</td>\n",
       "      <td>Sony</td>\n",
       "    </tr>\n",
       "    <tr>\n",
       "      <th>11</th>\n",
       "      <td>PSP</td>\n",
       "      <td>Sony</td>\n",
       "    </tr>\n",
       "    <tr>\n",
       "      <th>12</th>\n",
       "      <td>Switch</td>\n",
       "      <td>Nintendo</td>\n",
       "    </tr>\n",
       "    <tr>\n",
       "      <th>13</th>\n",
       "      <td>VITA</td>\n",
       "      <td>Sony</td>\n",
       "    </tr>\n",
       "    <tr>\n",
       "      <th>14</th>\n",
       "      <td>WII</td>\n",
       "      <td>Nintendo</td>\n",
       "    </tr>\n",
       "    <tr>\n",
       "      <th>15</th>\n",
       "      <td>WIIU</td>\n",
       "      <td>Nintendo</td>\n",
       "    </tr>\n",
       "    <tr>\n",
       "      <th>16</th>\n",
       "      <td>X360</td>\n",
       "      <td>Microsoft</td>\n",
       "    </tr>\n",
       "    <tr>\n",
       "      <th>17</th>\n",
       "      <td>XBOX</td>\n",
       "      <td>Microsoft</td>\n",
       "    </tr>\n",
       "    <tr>\n",
       "      <th>18</th>\n",
       "      <td>XONE</td>\n",
       "      <td>Microsoft</td>\n",
       "    </tr>\n",
       "  </tbody>\n",
       "</table>\n",
       "</div>"
      ],
      "text/plain": [
       "   console    company\n",
       "0      3DS   Nintendo\n",
       "1       DC       Sega\n",
       "2       DS   Nintendo\n",
       "3      GBA   Nintendo\n",
       "4       GC   Nintendo\n",
       "5      N64   Nintendo\n",
       "6       PC         PC\n",
       "7       PS       Sony\n",
       "8      PS2       Sony\n",
       "9      PS3       Sony\n",
       "10     PS4       Sony\n",
       "11     PSP       Sony\n",
       "12  Switch   Nintendo\n",
       "13    VITA       Sony\n",
       "14     WII   Nintendo\n",
       "15    WIIU   Nintendo\n",
       "16    X360  Microsoft\n",
       "17    XBOX  Microsoft\n",
       "18    XONE  Microsoft"
      ]
     },
     "execution_count": 2,
     "metadata": {},
     "output_type": "execute_result"
    }
   ],
   "source": [
    "df_consoles = pd.read_csv('../data/consoles.csv')\n",
    "print(df_consoles.columns)\n",
    "print('**************')\n",
    "print(df_consoles.describe())\n",
    "print('**************')\n",
    "print(df_consoles.info())\n",
    "print('**************')\n",
    "\n",
    "\n",
    "df_consoles.head(20)"
   ]
  },
  {
   "cell_type": "markdown",
   "metadata": {},
   "source": [
    "### Distribución de consolas por empresa"
   ]
  },
  {
   "cell_type": "markdown",
   "metadata": {},
   "source": [
    "El resultado muestra que el universo corresponde a 5 compañías, y 19 consolas unicas"
   ]
  },
  {
   "cell_type": "code",
   "execution_count": 8,
   "metadata": {},
   "outputs": [
    {
     "data": {
      "text/plain": [
       "<AxesSubplot:xlabel='company'>"
      ]
     },
     "execution_count": 8,
     "metadata": {},
     "output_type": "execute_result"
    },
    {
     "data": {
      "image/png": "[encoded data removed]",
      "text/plain": [
       "<Figure size 432x288 with 1 Axes>"
      ]
     },
     "metadata": {
      "needs_background": "light"
     },
     "output_type": "display_data"
    }
   ],
   "source": [
    "df_consoles.groupby(['company']).count().sort_values('console', ascending=False).plot(kind='bar')"
   ]
  },
  {
   "cell_type": "markdown",
   "metadata": {},
   "source": [
    "Ninentdo y Sony manejan un mayor número de consolas vs el universo"
   ]
  },
  {
   "cell_type": "markdown",
   "metadata": {},
   "source": [
    "## Análisis de datos para el csv consoles"
   ]
  },
  {
   "cell_type": "code",
   "execution_count": 10,
   "metadata": {
    "scrolled": false
   },
   "outputs": [
    {
     "name": "stdout",
     "output_type": "stream",
     "text": [
      "Index(['metascore', 'name', 'console', 'userscore', 'date'], dtype='object')\n",
      "**************\n",
      "          metascore\n",
      "count  15647.000000\n",
      "mean      70.012207\n",
      "std       12.633671\n",
      "min       11.000000\n",
      "25%       63.000000\n",
      "50%       72.000000\n",
      "75%       79.000000\n",
      "max       98.000000\n",
      "**************\n",
      "<class 'pandas.core.frame.DataFrame'>\n",
      "RangeIndex: 15647 entries, 0 to 15646\n",
      "Data columns (total 5 columns):\n",
      "metascore    15647 non-null int64\n",
      "name         15647 non-null object\n",
      "console      15647 non-null object\n",
      "userscore    15647 non-null object\n",
      "date         15647 non-null object\n",
      "dtypes: int64(1), object(4)\n",
      "memory usage: 611.3+ KB\n",
      "None\n",
      "**************\n"
     ]
    },
    {
     "data": {
      "text/html": [
       "<div>\n",
       "<style scoped>\n",
       "    .dataframe tbody tr th:only-of-type {\n",
       "        vertical-align: middle;\n",
       "    }\n",
       "\n",
       "    .dataframe tbody tr th {\n",
       "        vertical-align: top;\n",
       "    }\n",
       "\n",
       "    .dataframe thead th {\n",
       "        text-align: right;\n",
       "    }\n",
       "</style>\n",
       "<table border=\"1\" class=\"dataframe\">\n",
       "  <thead>\n",
       "    <tr style=\"text-align: right;\">\n",
       "      <th></th>\n",
       "      <th>metascore</th>\n",
       "      <th>name</th>\n",
       "      <th>console</th>\n",
       "      <th>userscore</th>\n",
       "      <th>date</th>\n",
       "    </tr>\n",
       "  </thead>\n",
       "  <tbody>\n",
       "    <tr>\n",
       "      <th>0</th>\n",
       "      <td>97</td>\n",
       "      <td>Grand Theft Auto V</td>\n",
       "      <td>PS3</td>\n",
       "      <td>8.3</td>\n",
       "      <td>Sep 17, 2013</td>\n",
       "    </tr>\n",
       "    <tr>\n",
       "      <th>1</th>\n",
       "      <td>97</td>\n",
       "      <td>Grand Theft Auto V</td>\n",
       "      <td>X360</td>\n",
       "      <td>8.3</td>\n",
       "      <td>Sep 17, 2013</td>\n",
       "    </tr>\n",
       "    <tr>\n",
       "      <th>2</th>\n",
       "      <td>95</td>\n",
       "      <td>The Last of Us</td>\n",
       "      <td>PS3</td>\n",
       "      <td>9.2</td>\n",
       "      <td>Jun 14, 2013</td>\n",
       "    </tr>\n",
       "    <tr>\n",
       "      <th>3</th>\n",
       "      <td>94</td>\n",
       "      <td>BioShock Infinite</td>\n",
       "      <td>PS3</td>\n",
       "      <td>8.5</td>\n",
       "      <td>Mar 26, 2013</td>\n",
       "    </tr>\n",
       "    <tr>\n",
       "      <th>4</th>\n",
       "      <td>94</td>\n",
       "      <td>BioShock Infinite</td>\n",
       "      <td>PC</td>\n",
       "      <td>8.6</td>\n",
       "      <td>Mar 25, 2013</td>\n",
       "    </tr>\n",
       "    <tr>\n",
       "      <th>5</th>\n",
       "      <td>93</td>\n",
       "      <td>BioShock Infinite</td>\n",
       "      <td>X360</td>\n",
       "      <td>8.5</td>\n",
       "      <td>Mar 26, 2013</td>\n",
       "    </tr>\n",
       "    <tr>\n",
       "      <th>6</th>\n",
       "      <td>93</td>\n",
       "      <td>Super Mario 3D World</td>\n",
       "      <td>WIIU</td>\n",
       "      <td>8.9</td>\n",
       "      <td>Nov 22, 2013</td>\n",
       "    </tr>\n",
       "    <tr>\n",
       "      <th>7</th>\n",
       "      <td>92</td>\n",
       "      <td>Fire Emblem: Awakening</td>\n",
       "      <td>3DS</td>\n",
       "      <td>9.1</td>\n",
       "      <td>Feb 4, 2013</td>\n",
       "    </tr>\n",
       "    <tr>\n",
       "      <th>8</th>\n",
       "      <td>92</td>\n",
       "      <td>Rayman Legends</td>\n",
       "      <td>WIIU</td>\n",
       "      <td>8.7</td>\n",
       "      <td>Sep 3, 2013</td>\n",
       "    </tr>\n",
       "    <tr>\n",
       "      <th>9</th>\n",
       "      <td>91</td>\n",
       "      <td>Fez</td>\n",
       "      <td>PC</td>\n",
       "      <td>6.7</td>\n",
       "      <td>May 1, 2013</td>\n",
       "    </tr>\n",
       "    <tr>\n",
       "      <th>10</th>\n",
       "      <td>91</td>\n",
       "      <td>Rayman Legends</td>\n",
       "      <td>PS3</td>\n",
       "      <td>8.7</td>\n",
       "      <td>Sep 3, 2013</td>\n",
       "    </tr>\n",
       "    <tr>\n",
       "      <th>11</th>\n",
       "      <td>91</td>\n",
       "      <td>The Legend of Zelda: A Link Between Worlds</td>\n",
       "      <td>3DS</td>\n",
       "      <td>9</td>\n",
       "      <td>Nov 22, 2013</td>\n",
       "    </tr>\n",
       "    <tr>\n",
       "      <th>12</th>\n",
       "      <td>91</td>\n",
       "      <td>flower</td>\n",
       "      <td>PS4</td>\n",
       "      <td>7.2</td>\n",
       "      <td>Nov 15, 2013</td>\n",
       "    </tr>\n",
       "    <tr>\n",
       "      <th>13</th>\n",
       "      <td>90</td>\n",
       "      <td>Spelunky</td>\n",
       "      <td>PC</td>\n",
       "      <td>7.3</td>\n",
       "      <td>Aug 8, 2013</td>\n",
       "    </tr>\n",
       "    <tr>\n",
       "      <th>14</th>\n",
       "      <td>90</td>\n",
       "      <td>The Legend of Zelda: The Wind Waker HD</td>\n",
       "      <td>WIIU</td>\n",
       "      <td>8.9</td>\n",
       "      <td>Sep 20, 2013</td>\n",
       "    </tr>\n",
       "    <tr>\n",
       "      <th>15</th>\n",
       "      <td>90</td>\n",
       "      <td>Brothers: A Tale of Two Sons</td>\n",
       "      <td>PC</td>\n",
       "      <td>8.6</td>\n",
       "      <td>Sep 3, 2013</td>\n",
       "    </tr>\n",
       "    <tr>\n",
       "      <th>16</th>\n",
       "      <td>90</td>\n",
       "      <td>Dota 2</td>\n",
       "      <td>PC</td>\n",
       "      <td>6.5</td>\n",
       "      <td>Jul 9, 2013</td>\n",
       "    </tr>\n",
       "    <tr>\n",
       "      <th>17</th>\n",
       "      <td>90</td>\n",
       "      <td>Rayman Legends</td>\n",
       "      <td>X360</td>\n",
       "      <td>8.2</td>\n",
       "      <td>Sep 3, 2013</td>\n",
       "    </tr>\n",
       "    <tr>\n",
       "      <th>18</th>\n",
       "      <td>89</td>\n",
       "      <td>Skylanders Swap Force</td>\n",
       "      <td>WIIU</td>\n",
       "      <td>6.1</td>\n",
       "      <td>Oct 13, 2013</td>\n",
       "    </tr>\n",
       "    <tr>\n",
       "      <th>19</th>\n",
       "      <td>89</td>\n",
       "      <td>Rocksmith 2014 Edition</td>\n",
       "      <td>PC</td>\n",
       "      <td>7.9</td>\n",
       "      <td>Oct 22, 2013</td>\n",
       "    </tr>\n",
       "  </tbody>\n",
       "</table>\n",
       "</div>"
      ],
      "text/plain": [
       "    metascore                                        name console userscore  \\\n",
       "0          97                          Grand Theft Auto V     PS3       8.3   \n",
       "1          97                          Grand Theft Auto V    X360       8.3   \n",
       "2          95                              The Last of Us     PS3       9.2   \n",
       "3          94                           BioShock Infinite     PS3       8.5   \n",
       "4          94                           BioShock Infinite      PC       8.6   \n",
       "5          93                           BioShock Infinite    X360       8.5   \n",
       "6          93                        Super Mario 3D World    WIIU       8.9   \n",
       "7          92                      Fire Emblem: Awakening     3DS       9.1   \n",
       "8          92                              Rayman Legends    WIIU       8.7   \n",
       "9          91                                         Fez      PC       6.7   \n",
       "10         91                              Rayman Legends     PS3       8.7   \n",
       "11         91  The Legend of Zelda: A Link Between Worlds     3DS         9   \n",
       "12         91                                      flower     PS4       7.2   \n",
       "13         90                                    Spelunky      PC       7.3   \n",
       "14         90      The Legend of Zelda: The Wind Waker HD    WIIU       8.9   \n",
       "15         90                Brothers: A Tale of Two Sons      PC       8.6   \n",
       "16         90                                      Dota 2      PC       6.5   \n",
       "17         90                              Rayman Legends    X360       8.2   \n",
       "18         89                       Skylanders Swap Force    WIIU       6.1   \n",
       "19         89                      Rocksmith 2014 Edition      PC       7.9   \n",
       "\n",
       "            date  \n",
       "0   Sep 17, 2013  \n",
       "1   Sep 17, 2013  \n",
       "2   Jun 14, 2013  \n",
       "3   Mar 26, 2013  \n",
       "4   Mar 25, 2013  \n",
       "5   Mar 26, 2013  \n",
       "6   Nov 22, 2013  \n",
       "7    Feb 4, 2013  \n",
       "8    Sep 3, 2013  \n",
       "9    May 1, 2013  \n",
       "10   Sep 3, 2013  \n",
       "11  Nov 22, 2013  \n",
       "12  Nov 15, 2013  \n",
       "13   Aug 8, 2013  \n",
       "14  Sep 20, 2013  \n",
       "15   Sep 3, 2013  \n",
       "16   Jul 9, 2013  \n",
       "17   Sep 3, 2013  \n",
       "18  Oct 13, 2013  \n",
       "19  Oct 22, 2013  "
      ]
     },
     "execution_count": 10,
     "metadata": {},
     "output_type": "execute_result"
    }
   ],
   "source": [
    "df_result = pd.read_csv('../data/result.csv')\n",
    "print(df_result.columns)\n",
    "print('**************')\n",
    "print(df_result.describe())\n",
    "print('**************')\n",
    "print(df_result.info())\n",
    "print('**************')\n",
    "\n",
    "df_result.head(20)"
   ]
  },
  {
   "cell_type": "code",
   "execution_count": 11,
   "metadata": {},
   "outputs": [
    {
     "data": {
      "text/plain": [
       "array(['8.3', '9.2', '8.5', '8.6', '8.9', '9.1', '8.7', '6.7', '9', '7.2',\n",
       "       '7.3', '6.5', '8.2', '6.1', '7.9', '5.8', '7.6', '8', '7.5', '8.4',\n",
       "       '6.3', '7.4', '6.4', '8.8', '4.9', '5.4', '5.7', '7.7', '7.8',\n",
       "       '5.1', '4.3', '6.6', '8.1', '7', '7.1', '6.8', '5.6', '5', '5.9',\n",
       "       '6.9', '4.2', '6.2', '4.8', '6', '4.7', '5.2', '5.5', '3.4', '3.2',\n",
       "       '9.3', '4.5', '4.1', '1.5', '4.4', '3.1', '4.6', '9.4', 'tbd',\n",
       "       '5.3', '3.6', '2.1', '1.9', '2.8', '2.4', '3.3', '3', '3.5', '3.8',\n",
       "       '3.7', '4', '2.7', '1.6', '2.6', '3.9', '2.5', '0.8', '1.7', '1.4',\n",
       "       '2.9', '1.8', '2.2', '2.3', '2', '0.7', '1.3', '1', '1.2', '1.1',\n",
       "       '0.2', '0.9', '0.4', '0.5'], dtype=object)"
      ]
     },
     "execution_count": 11,
     "metadata": {},
     "output_type": "execute_result"
    }
   ],
   "source": [
    "#El resultado contiene un valor llamado 'tbd', lo que reprenstará un error al momento de realizar un cast\n",
    "# mediante el diccionario de datos definimos que el valor \"tbd\" es un valor que no se ha determinado aún, ya que la\n",
    "# cantidad de críticas ha sido baja\n",
    "df_result['userscore'].unique()"
   ]
  },
  {
   "cell_type": "code",
   "execution_count": 17,
   "metadata": {},
   "outputs": [
    {
     "data": {
      "text/plain": [
       "array([97, 95, 94, 93, 92, 91, 90, 89, 88, 87, 86, 85, 84, 83, 98, 96, 82,\n",
       "       81, 80, 79, 78, 77, 76, 75, 74, 73, 72, 71, 70, 69, 68, 67, 66, 65,\n",
       "       64, 63, 62, 61, 60, 59, 58, 57, 56, 55, 54, 53, 52, 51, 50, 49, 48,\n",
       "       47, 46, 44, 43, 42, 41, 40, 39, 38, 37, 28, 26, 45, 35, 34, 33, 32,\n",
       "       36, 30, 27, 23, 22, 19, 17, 16, 31, 29, 25, 24, 20, 11, 21, 18],\n",
       "      dtype=int64)"
      ]
     },
     "execution_count": 17,
     "metadata": {},
     "output_type": "execute_result"
    }
   ],
   "source": [
    "df_result['metascore'].unique()"
   ]
  },
  {
   "cell_type": "code",
   "execution_count": 47,
   "metadata": {},
   "outputs": [
    {
     "data": {
      "text/plain": [
       "<AxesSubplot:xlabel='metascore'>"
      ]
     },
     "execution_count": 47,
     "metadata": {},
     "output_type": "execute_result"
    },
    {
     "data": {
      "image/png": "[encoded data removed]",
      "text/plain": [
       "<Figure size 432x288 with 1 Axes>"
      ]
     },
     "metadata": {
      "needs_background": "light"
     },
     "output_type": "display_data"
    }
   ],
   "source": [
    "#Se visualiza que los valores de metascore corresponden a valores continuos entre 0 y carcano 100\n",
    "plot_mestascore = df_result.groupby(['metascore']).count().sort_values('metascore')\n",
    "plot_mestascore['count'] = plot_mestascore['name']\n",
    "plot_mestascore['count'].plot()\n"
   ]
  },
  {
   "cell_type": "code",
   "execution_count": 16,
   "metadata": {},
   "outputs": [
    {
     "data": {
      "text/html": [
       "<div>\n",
       "<style scoped>\n",
       "    .dataframe tbody tr th:only-of-type {\n",
       "        vertical-align: middle;\n",
       "    }\n",
       "\n",
       "    .dataframe tbody tr th {\n",
       "        vertical-align: top;\n",
       "    }\n",
       "\n",
       "    .dataframe thead th {\n",
       "        text-align: right;\n",
       "    }\n",
       "</style>\n",
       "<table border=\"1\" class=\"dataframe\">\n",
       "  <thead>\n",
       "    <tr style=\"text-align: right;\">\n",
       "      <th></th>\n",
       "      <th>metascore</th>\n",
       "      <th>name</th>\n",
       "      <th>console</th>\n",
       "      <th>userscore</th>\n",
       "      <th>date</th>\n",
       "    </tr>\n",
       "  </thead>\n",
       "  <tbody>\n",
       "    <tr>\n",
       "      <th>1090</th>\n",
       "      <td>85</td>\n",
       "      <td>Dave Mirra Freestyle BMX 2</td>\n",
       "      <td>GBA</td>\n",
       "      <td>tbd</td>\n",
       "      <td>Nov 25, 2001</td>\n",
       "    </tr>\n",
       "    <tr>\n",
       "      <th>1526</th>\n",
       "      <td>90</td>\n",
       "      <td>Madden NFL 2005</td>\n",
       "      <td>GC</td>\n",
       "      <td>tbd</td>\n",
       "      <td>Aug 9, 2004</td>\n",
       "    </tr>\n",
       "    <tr>\n",
       "      <th>1542</th>\n",
       "      <td>88</td>\n",
       "      <td>Tiger Woods PGA Tour 2005</td>\n",
       "      <td>GC</td>\n",
       "      <td>tbd</td>\n",
       "      <td>Sep 20, 2004</td>\n",
       "    </tr>\n",
       "    <tr>\n",
       "      <th>1551</th>\n",
       "      <td>86</td>\n",
       "      <td>NASCAR 2005: Chase for the Cup</td>\n",
       "      <td>XBOX</td>\n",
       "      <td>tbd</td>\n",
       "      <td>Aug 31, 2004</td>\n",
       "    </tr>\n",
       "    <tr>\n",
       "      <th>1580</th>\n",
       "      <td>84</td>\n",
       "      <td>Pinball FX 2: Marvel Pinball - Vengeance and V...</td>\n",
       "      <td>X360</td>\n",
       "      <td>tbd</td>\n",
       "      <td>Dec 13, 2011</td>\n",
       "    </tr>\n",
       "    <tr>\n",
       "      <th>...</th>\n",
       "      <td>...</td>\n",
       "      <td>...</td>\n",
       "      <td>...</td>\n",
       "      <td>...</td>\n",
       "      <td>...</td>\n",
       "    </tr>\n",
       "    <tr>\n",
       "      <th>15612</th>\n",
       "      <td>49</td>\n",
       "      <td>Trulon: The Shadow Engine</td>\n",
       "      <td>XONE</td>\n",
       "      <td>tbd</td>\n",
       "      <td>Feb 24, 2017</td>\n",
       "    </tr>\n",
       "    <tr>\n",
       "      <th>15614</th>\n",
       "      <td>49</td>\n",
       "      <td>De-formers</td>\n",
       "      <td>XONE</td>\n",
       "      <td>tbd</td>\n",
       "      <td>Mar 24, 2017</td>\n",
       "    </tr>\n",
       "    <tr>\n",
       "      <th>15619</th>\n",
       "      <td>48</td>\n",
       "      <td>Vaccine</td>\n",
       "      <td>XONE</td>\n",
       "      <td>tbd</td>\n",
       "      <td>Feb 21, 2017</td>\n",
       "    </tr>\n",
       "    <tr>\n",
       "      <th>15628</th>\n",
       "      <td>45</td>\n",
       "      <td>Maize</td>\n",
       "      <td>PS4</td>\n",
       "      <td>tbd</td>\n",
       "      <td>Sep 12, 2017</td>\n",
       "    </tr>\n",
       "    <tr>\n",
       "      <th>15632</th>\n",
       "      <td>43</td>\n",
       "      <td>Dead Alliance</td>\n",
       "      <td>XONE</td>\n",
       "      <td>tbd</td>\n",
       "      <td>Aug 29, 2017</td>\n",
       "    </tr>\n",
       "  </tbody>\n",
       "</table>\n",
       "<p>1373 rows × 5 columns</p>\n",
       "</div>"
      ],
      "text/plain": [
       "       metascore                                               name console  \\\n",
       "1090          85                         Dave Mirra Freestyle BMX 2     GBA   \n",
       "1526          90                                    Madden NFL 2005      GC   \n",
       "1542          88                          Tiger Woods PGA Tour 2005      GC   \n",
       "1551          86                     NASCAR 2005: Chase for the Cup    XBOX   \n",
       "1580          84  Pinball FX 2: Marvel Pinball - Vengeance and V...    X360   \n",
       "...          ...                                                ...     ...   \n",
       "15612         49                          Trulon: The Shadow Engine    XONE   \n",
       "15614         49                                         De-formers    XONE   \n",
       "15619         48                                            Vaccine    XONE   \n",
       "15628         45                                              Maize     PS4   \n",
       "15632         43                                      Dead Alliance    XONE   \n",
       "\n",
       "      userscore          date  \n",
       "1090        tbd  Nov 25, 2001  \n",
       "1526        tbd   Aug 9, 2004  \n",
       "1542        tbd  Sep 20, 2004  \n",
       "1551        tbd  Aug 31, 2004  \n",
       "1580        tbd  Dec 13, 2011  \n",
       "...         ...           ...  \n",
       "15612       tbd  Feb 24, 2017  \n",
       "15614       tbd  Mar 24, 2017  \n",
       "15619       tbd  Feb 21, 2017  \n",
       "15628       tbd  Sep 12, 2017  \n",
       "15632       tbd  Aug 29, 2017  \n",
       "\n",
       "[1373 rows x 5 columns]"
      ]
     },
     "execution_count": 16,
     "metadata": {},
     "output_type": "execute_result"
    }
   ],
   "source": [
    "df_result[df_result['userscore']=='tbd']"
   ]
  },
  {
   "cell_type": "code",
   "execution_count": 39,
   "metadata": {},
   "outputs": [
    {
     "data": {
      "text/plain": [
       "array([97, 95, 94, 93, 92, 91, 90, 89, 88, 87, 86, 85, 84, 83, 98, 96, 82,\n",
       "       81, 80, 79, 78, 77, 76, 75, 74, 73, 72, 71, 70, 69, 68, 67, 66, 65,\n",
       "       64, 63, 62, 61, 60, 59, 58, 57, 56, 55, 54, 53, 52, 51, 50, 49, 48,\n",
       "       47, 46, 44, 43, 42, 41, 40, 39, 38, 37, 28, 26, 45, 35, 34, 33, 32,\n",
       "       36, 30, 27, 23, 22, 19, 17, 16, 31, 29, 25, 24, 20, 11, 21, 18],\n",
       "      dtype=int64)"
      ]
     },
     "execution_count": 39,
     "metadata": {},
     "output_type": "execute_result"
    }
   ],
   "source": [
    "df_result['metascore'].unique()"
   ]
  },
  {
   "cell_type": "code",
   "execution_count": 48,
   "metadata": {},
   "outputs": [
    {
     "data": {
      "text/plain": [
       "array(['Grand Theft Auto V', 'The Last of Us', 'BioShock Infinite', ...,\n",
       "       'Tokyo Tattoo Girls', 'Road Rage', 'Vroom in the Night Sky'],\n",
       "      dtype=object)"
      ]
     },
     "execution_count": 48,
     "metadata": {},
     "output_type": "execute_result"
    }
   ],
   "source": [
    "#Ejemplos de algunos nombres de juegos\n",
    "df_result['name'].unique()"
   ]
  },
  {
   "cell_type": "code",
   "execution_count": 49,
   "metadata": {},
   "outputs": [
    {
     "data": {
      "text/plain": [
       "array(['PS3', 'X360', 'PC', 'WIIU', '3DS', 'PS4', 'VITA', 'XONE',\n",
       "       'Switch', 'WII', 'DS', 'PSP', 'PS2', 'XBOX', 'GBA', 'N64', 'DC',\n",
       "       'GC', 'PS', ' PC', ' VITA'], dtype=object)"
      ]
     },
     "execution_count": 49,
     "metadata": {},
     "output_type": "execute_result"
    }
   ],
   "source": [
    "#Distintas consolas que se encuentran en la data\n",
    "df_result['console'].unique()"
   ]
  },
  {
   "cell_type": "markdown",
   "metadata": {},
   "source": [
    "### Exploracion de atributos relevantes"
   ]
  },
  {
   "cell_type": "code",
   "execution_count": 45,
   "metadata": {},
   "outputs": [
    {
     "name": "stderr",
     "output_type": "stream",
     "text": [
      "c:\\users\\jpcartesf\\appdata\\local\\programs\\python\\python36\\lib\\site-packages\\ipykernel_launcher.py:2: SettingWithCopyWarning: \n",
      "A value is trying to be set on a copy of a slice from a DataFrame.\n",
      "Try using .loc[row_indexer,col_indexer] = value instead\n",
      "\n",
      "See the caveats in the documentation: http://pandas.pydata.org/pandas-docs/stable/user_guide/indexing.html#returning-a-view-versus-a-copy\n",
      "  \n",
      "c:\\users\\jpcartesf\\appdata\\local\\programs\\python\\python36\\lib\\site-packages\\ipykernel_launcher.py:3: SettingWithCopyWarning: \n",
      "A value is trying to be set on a copy of a slice from a DataFrame.\n",
      "Try using .loc[row_indexer,col_indexer] = value instead\n",
      "\n",
      "See the caveats in the documentation: http://pandas.pydata.org/pandas-docs/stable/user_guide/indexing.html#returning-a-view-versus-a-copy\n",
      "  This is separate from the ipykernel package so we can avoid doing imports until\n"
     ]
    }
   ],
   "source": [
    "df_result_dwh = df_result[df_result['userscore']!='tbd']\n",
    "df_result_dwh['date']= pd.to_datetime(df_result_dwh['date'])\n",
    "df_result_dwh['userscore']= df_result_dwh.userscore.astype(float)"
   ]
  },
  {
   "cell_type": "code",
   "execution_count": 52,
   "metadata": {},
   "outputs": [
    {
     "data": {
      "text/html": [
       "<div>\n",
       "<style scoped>\n",
       "    .dataframe tbody tr th:only-of-type {\n",
       "        vertical-align: middle;\n",
       "    }\n",
       "\n",
       "    .dataframe tbody tr th {\n",
       "        vertical-align: top;\n",
       "    }\n",
       "\n",
       "    .dataframe thead th {\n",
       "        text-align: right;\n",
       "    }\n",
       "</style>\n",
       "<table border=\"1\" class=\"dataframe\">\n",
       "  <thead>\n",
       "    <tr style=\"text-align: right;\">\n",
       "      <th></th>\n",
       "      <th>metascore</th>\n",
       "      <th>name</th>\n",
       "      <th>console</th>\n",
       "      <th>userscore</th>\n",
       "      <th>date</th>\n",
       "    </tr>\n",
       "  </thead>\n",
       "  <tbody>\n",
       "    <tr>\n",
       "      <th>0</th>\n",
       "      <td>97</td>\n",
       "      <td>Grand Theft Auto V</td>\n",
       "      <td>PS3</td>\n",
       "      <td>8.3</td>\n",
       "      <td>Sep 17, 2013</td>\n",
       "    </tr>\n",
       "    <tr>\n",
       "      <th>1</th>\n",
       "      <td>97</td>\n",
       "      <td>Grand Theft Auto V</td>\n",
       "      <td>X360</td>\n",
       "      <td>8.3</td>\n",
       "      <td>Sep 17, 2013</td>\n",
       "    </tr>\n",
       "    <tr>\n",
       "      <th>56</th>\n",
       "      <td>97</td>\n",
       "      <td>Grand Theft Auto V</td>\n",
       "      <td>XONE</td>\n",
       "      <td>7.8</td>\n",
       "      <td>Nov 18, 2014</td>\n",
       "    </tr>\n",
       "    <tr>\n",
       "      <th>67</th>\n",
       "      <td>97</td>\n",
       "      <td>Grand Theft Auto V</td>\n",
       "      <td>PS4</td>\n",
       "      <td>8.3</td>\n",
       "      <td>Nov 18, 2014</td>\n",
       "    </tr>\n",
       "    <tr>\n",
       "      <th>449</th>\n",
       "      <td>96</td>\n",
       "      <td>Grand Theft Auto V</td>\n",
       "      <td>PC</td>\n",
       "      <td>7.7</td>\n",
       "      <td>Apr 14, 2015</td>\n",
       "    </tr>\n",
       "  </tbody>\n",
       "</table>\n",
       "</div>"
      ],
      "text/plain": [
       "     metascore                name console userscore          date\n",
       "0           97  Grand Theft Auto V     PS3       8.3  Sep 17, 2013\n",
       "1           97  Grand Theft Auto V    X360       8.3  Sep 17, 2013\n",
       "56          97  Grand Theft Auto V    XONE       7.8  Nov 18, 2014\n",
       "67          97  Grand Theft Auto V     PS4       8.3  Nov 18, 2014\n",
       "449         96  Grand Theft Auto V      PC       7.7  Apr 14, 2015"
      ]
     },
     "execution_count": 52,
     "metadata": {},
     "output_type": "execute_result"
    }
   ],
   "source": [
    "df_result[df_result['name']=='Grand Theft Auto V']"
   ]
  },
  {
   "cell_type": "markdown",
   "metadata": {},
   "source": [
    "## Modelo dimensional"
   ]
  },
  {
   "cell_type": "markdown",
   "metadata": {},
   "source": [
    "## Tabla1:  Consoles\n",
    "#### Se validará su primary key"
   ]
  },
  {
   "cell_type": "code",
   "execution_count": 83,
   "metadata": {},
   "outputs": [
    {
     "name": "stdout",
     "output_type": "stream",
     "text": [
      "Cantidad de filas distintas del campo ID 19 vs cantidad de filas totales 19\n"
     ]
    }
   ],
   "source": [
    "df_consoles['id'] = df_consoles.console + df_consoles.company\n",
    "print('Cantidad de filas distintas del campo ID {} vs cantidad de filas totales {}'.format(len(df_consoles['id'].unique()),len(df_consoles)))"
   ]
  },
  {
   "cell_type": "markdown",
   "metadata": {},
   "source": [
    "#### El resultado anterior nos dice que una consola corresponde a sólo una compañía, se define que ambas columnas (console y company) son la PK del archivo consoles"
   ]
  },
  {
   "cell_type": "markdown",
   "metadata": {},
   "source": [
    " "
   ]
  },
  {
   "cell_type": "markdown",
   "metadata": {},
   "source": [
    "## Tabla2:  Result\n",
    "#### Se validará su primary key\n",
    "\n",
    "Al realizar una breve exploracion en la tabla results, nos fijamos que tiene una apertura por fecha. Incluso podríamos intuír de una tabla de hechos o fact table viéndolo desde un punto de vista de BI.\n",
    "Para poder cumplir con los casos de uso, necesitamos poder relacionar los valores de result y console, básicamente para obtener la empresa, sin que éstos generen duplicidad al cruzar"
   ]
  },
  {
   "cell_type": "code",
   "execution_count": 87,
   "metadata": {},
   "outputs": [],
   "source": [
    "df_results_aux = df_result[['name','console']]\n",
    "df_results_aux = df_results_aux.drop_duplicates()\n",
    "df_results_aux['id'] = df_result.name + df_result.console"
   ]
  },
  {
   "cell_type": "markdown",
   "metadata": {},
   "source": [
    "#### Con este procesamiento nos debemos preguntar ¿ un juego corresponde sólo a una consola ?"
   ]
  },
  {
   "cell_type": "code",
   "execution_count": 89,
   "metadata": {},
   "outputs": [
    {
     "data": {
      "text/html": [
       "<div>\n",
       "<style scoped>\n",
       "    .dataframe tbody tr th:only-of-type {\n",
       "        vertical-align: middle;\n",
       "    }\n",
       "\n",
       "    .dataframe tbody tr th {\n",
       "        vertical-align: top;\n",
       "    }\n",
       "\n",
       "    .dataframe thead th {\n",
       "        text-align: right;\n",
       "    }\n",
       "</style>\n",
       "<table border=\"1\" class=\"dataframe\">\n",
       "  <thead>\n",
       "    <tr style=\"text-align: right;\">\n",
       "      <th></th>\n",
       "      <th>name</th>\n",
       "      <th>console</th>\n",
       "      <th>id</th>\n",
       "    </tr>\n",
       "  </thead>\n",
       "  <tbody>\n",
       "    <tr>\n",
       "      <th>0</th>\n",
       "      <td>Grand Theft Auto V</td>\n",
       "      <td>PS3</td>\n",
       "      <td>Grand Theft Auto VPS3</td>\n",
       "    </tr>\n",
       "    <tr>\n",
       "      <th>1</th>\n",
       "      <td>Grand Theft Auto V</td>\n",
       "      <td>X360</td>\n",
       "      <td>Grand Theft Auto VX360</td>\n",
       "    </tr>\n",
       "    <tr>\n",
       "      <th>2</th>\n",
       "      <td>The Last of Us</td>\n",
       "      <td>PS3</td>\n",
       "      <td>The Last of UsPS3</td>\n",
       "    </tr>\n",
       "    <tr>\n",
       "      <th>3</th>\n",
       "      <td>BioShock Infinite</td>\n",
       "      <td>PS3</td>\n",
       "      <td>BioShock InfinitePS3</td>\n",
       "    </tr>\n",
       "    <tr>\n",
       "      <th>4</th>\n",
       "      <td>BioShock Infinite</td>\n",
       "      <td>PC</td>\n",
       "      <td>BioShock InfinitePC</td>\n",
       "    </tr>\n",
       "    <tr>\n",
       "      <th>...</th>\n",
       "      <td>...</td>\n",
       "      <td>...</td>\n",
       "      <td>...</td>\n",
       "    </tr>\n",
       "    <tr>\n",
       "      <th>15642</th>\n",
       "      <td>Touhou Kobuto V: Burst Battle</td>\n",
       "      <td>Switch</td>\n",
       "      <td>Touhou Kobuto V: Burst BattleSwitch</td>\n",
       "    </tr>\n",
       "    <tr>\n",
       "      <th>15643</th>\n",
       "      <td>Randall</td>\n",
       "      <td>PS4</td>\n",
       "      <td>RandallPS4</td>\n",
       "    </tr>\n",
       "    <tr>\n",
       "      <th>15644</th>\n",
       "      <td>Tokyo Tattoo Girls</td>\n",
       "      <td>VITA</td>\n",
       "      <td>Tokyo Tattoo GirlsVITA</td>\n",
       "    </tr>\n",
       "    <tr>\n",
       "      <th>15645</th>\n",
       "      <td>Road Rage</td>\n",
       "      <td>PS4</td>\n",
       "      <td>Road RagePS4</td>\n",
       "    </tr>\n",
       "    <tr>\n",
       "      <th>15646</th>\n",
       "      <td>Vroom in the Night Sky</td>\n",
       "      <td>Switch</td>\n",
       "      <td>Vroom in the Night SkySwitch</td>\n",
       "    </tr>\n",
       "  </tbody>\n",
       "</table>\n",
       "<p>15646 rows × 3 columns</p>\n",
       "</div>"
      ],
      "text/plain": [
       "                                name console  \\\n",
       "0                 Grand Theft Auto V     PS3   \n",
       "1                 Grand Theft Auto V    X360   \n",
       "2                     The Last of Us     PS3   \n",
       "3                  BioShock Infinite     PS3   \n",
       "4                  BioShock Infinite      PC   \n",
       "...                              ...     ...   \n",
       "15642  Touhou Kobuto V: Burst Battle  Switch   \n",
       "15643                        Randall     PS4   \n",
       "15644             Tokyo Tattoo Girls    VITA   \n",
       "15645                      Road Rage     PS4   \n",
       "15646         Vroom in the Night Sky  Switch   \n",
       "\n",
       "                                        id  \n",
       "0                    Grand Theft Auto VPS3  \n",
       "1                   Grand Theft Auto VX360  \n",
       "2                        The Last of UsPS3  \n",
       "3                     BioShock InfinitePS3  \n",
       "4                      BioShock InfinitePC  \n",
       "...                                    ...  \n",
       "15642  Touhou Kobuto V: Burst BattleSwitch  \n",
       "15643                           RandallPS4  \n",
       "15644               Tokyo Tattoo GirlsVITA  \n",
       "15645                         Road RagePS4  \n",
       "15646         Vroom in the Night SkySwitch  \n",
       "\n",
       "[15646 rows x 3 columns]"
      ]
     },
     "execution_count": 89,
     "metadata": {},
     "output_type": "execute_result"
    }
   ],
   "source": [
    "df_results_aux"
   ]
  },
  {
   "cell_type": "code",
   "execution_count": null,
   "metadata": {},
   "outputs": [],
   "source": []
  }
 ],
 "metadata": {
  "kernelspec": {
   "display_name": "Python 3",
   "language": "python",
   "name": "python3"
  },
  "language_info": {
   "codemirror_mode": {
    "name": "ipython",
    "version": 3
   },
   "file_extension": ".py",
   "mimetype": "text/x-python",
   "name": "python",
   "nbconvert_exporter": "python",
   "pygments_lexer": "ipython3",
   "version": "3.6.8"
  }
 },
 "nbformat": 4,
 "nbformat_minor": 4
}
